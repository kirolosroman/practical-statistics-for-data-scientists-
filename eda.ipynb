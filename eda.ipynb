{
 "cells": [
  {
   "cell_type": "markdown",
   "metadata": {},
   "source": [
    "##Elements of structured data\n",
    "    Numeric: Data that are expressed on a numeric scale.\n",
    "        Continuous: Data that can take on any value in an interval. (Synonyms: interval, float,numeric)\n",
    "        Discrete: Data that can take on only integer values, such as counts. (Synonyms: integer,count)\n",
    "    Categorical: Data that can take on only a specific set of values representing a set of possible categories. (Synonyms: enums, enumerated, factors, nominal)\n",
    "        Binary: A special case of categorical data with just two categories of values, e.g., 0/1,true/false. (Synonyms: dichotomous, logical, indicator, boolean)\n",
    "        Ordinal: Categorical data that has an explicit ordering. (Synonym: ordered factor)Elements of data structure"
   ]
  },
  {
   "cell_type": "code",
   "execution_count": null,
   "metadata": {},
   "outputs": [],
   "source": []
  }
 ],
 "metadata": {
  "kernelspec": {
   "display_name": "Python 3",
   "language": "python",
   "name": "python3"
  },
  "language_info": {
   "codemirror_mode": {
    "name": "ipython",
    "version": 3
   },
   "file_extension": ".py",
   "mimetype": "text/x-python",
   "name": "python",
   "nbconvert_exporter": "python",
   "pygments_lexer": "ipython3",
   "version": "3.10.12"
  },
  "orig_nbformat": 4
 },
 "nbformat": 4,
 "nbformat_minor": 2
}
