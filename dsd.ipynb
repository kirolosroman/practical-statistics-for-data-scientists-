{
 "cells": [
  {
   "cell_type": "code",
   "execution_count": 82,
   "metadata": {},
   "outputs": [],
   "source": [
    "import pandas as pd"
   ]
  },
  {
   "cell_type": "code",
   "execution_count": 83,
   "metadata": {},
   "outputs": [
    {
     "data": {
      "text/html": [
       "<div>\n",
       "<style scoped>\n",
       "    .dataframe tbody tr th:only-of-type {\n",
       "        vertical-align: middle;\n",
       "    }\n",
       "\n",
       "    .dataframe tbody tr th {\n",
       "        vertical-align: top;\n",
       "    }\n",
       "\n",
       "    .dataframe thead th {\n",
       "        text-align: right;\n",
       "    }\n",
       "</style>\n",
       "<table border=\"1\" class=\"dataframe\">\n",
       "  <thead>\n",
       "    <tr style=\"text-align: right;\">\n",
       "      <th></th>\n",
       "      <th>nflId</th>\n",
       "      <th>height</th>\n",
       "      <th>weight</th>\n",
       "      <th>birthDate</th>\n",
       "      <th>collegeName</th>\n",
       "      <th>officialPosition</th>\n",
       "      <th>displayName</th>\n",
       "    </tr>\n",
       "  </thead>\n",
       "  <tbody>\n",
       "    <tr>\n",
       "      <th>0</th>\n",
       "      <td>25511</td>\n",
       "      <td>6-4</td>\n",
       "      <td>225</td>\n",
       "      <td>1977-08-03</td>\n",
       "      <td>Michigan</td>\n",
       "      <td>QB</td>\n",
       "      <td>Tom Brady</td>\n",
       "    </tr>\n",
       "    <tr>\n",
       "      <th>1</th>\n",
       "      <td>28963</td>\n",
       "      <td>6-5</td>\n",
       "      <td>240</td>\n",
       "      <td>1982-03-02</td>\n",
       "      <td>Miami, O.</td>\n",
       "      <td>QB</td>\n",
       "      <td>Ben Roethlisberger</td>\n",
       "    </tr>\n",
       "    <tr>\n",
       "      <th>2</th>\n",
       "      <td>29550</td>\n",
       "      <td>6-4</td>\n",
       "      <td>328</td>\n",
       "      <td>1982-01-22</td>\n",
       "      <td>Arkansas</td>\n",
       "      <td>T</td>\n",
       "      <td>Jason Peters</td>\n",
       "    </tr>\n",
       "    <tr>\n",
       "      <th>3</th>\n",
       "      <td>29851</td>\n",
       "      <td>6-2</td>\n",
       "      <td>225</td>\n",
       "      <td>1983-12-02</td>\n",
       "      <td>California</td>\n",
       "      <td>QB</td>\n",
       "      <td>Aaron Rodgers</td>\n",
       "    </tr>\n",
       "    <tr>\n",
       "      <th>4</th>\n",
       "      <td>30078</td>\n",
       "      <td>6-2</td>\n",
       "      <td>228</td>\n",
       "      <td>1982-11-24</td>\n",
       "      <td>Harvard</td>\n",
       "      <td>QB</td>\n",
       "      <td>Ryan Fitzpatrick</td>\n",
       "    </tr>\n",
       "    <tr>\n",
       "      <th>...</th>\n",
       "      <td>...</td>\n",
       "      <td>...</td>\n",
       "      <td>...</td>\n",
       "      <td>...</td>\n",
       "      <td>...</td>\n",
       "      <td>...</td>\n",
       "      <td>...</td>\n",
       "    </tr>\n",
       "    <tr>\n",
       "      <th>1674</th>\n",
       "      <td>53991</td>\n",
       "      <td>6-1</td>\n",
       "      <td>320</td>\n",
       "      <td>NaN</td>\n",
       "      <td>NaN</td>\n",
       "      <td>DT</td>\n",
       "      <td>Forrest Merrill</td>\n",
       "    </tr>\n",
       "    <tr>\n",
       "      <th>1675</th>\n",
       "      <td>53994</td>\n",
       "      <td>6-5</td>\n",
       "      <td>300</td>\n",
       "      <td>NaN</td>\n",
       "      <td>NaN</td>\n",
       "      <td>C</td>\n",
       "      <td>Ryan McCollum</td>\n",
       "    </tr>\n",
       "    <tr>\n",
       "      <th>1676</th>\n",
       "      <td>53999</td>\n",
       "      <td>6-4</td>\n",
       "      <td>312</td>\n",
       "      <td>NaN</td>\n",
       "      <td>NaN</td>\n",
       "      <td>DT</td>\n",
       "      <td>Jack Heflin</td>\n",
       "    </tr>\n",
       "    <tr>\n",
       "      <th>1677</th>\n",
       "      <td>54006</td>\n",
       "      <td>6-6</td>\n",
       "      <td>330</td>\n",
       "      <td>NaN</td>\n",
       "      <td>NaN</td>\n",
       "      <td>T</td>\n",
       "      <td>Jake Curhan</td>\n",
       "    </tr>\n",
       "    <tr>\n",
       "      <th>1678</th>\n",
       "      <td>54038</td>\n",
       "      <td>6-6</td>\n",
       "      <td>245</td>\n",
       "      <td>NaN</td>\n",
       "      <td>NaN</td>\n",
       "      <td>QB</td>\n",
       "      <td>Feleipe Franks</td>\n",
       "    </tr>\n",
       "  </tbody>\n",
       "</table>\n",
       "<p>1679 rows × 7 columns</p>\n",
       "</div>"
      ],
      "text/plain": [
       "      nflId height  weight   birthDate collegeName officialPosition  \\\n",
       "0     25511    6-4     225  1977-08-03    Michigan               QB   \n",
       "1     28963    6-5     240  1982-03-02   Miami, O.               QB   \n",
       "2     29550    6-4     328  1982-01-22    Arkansas                T   \n",
       "3     29851    6-2     225  1983-12-02  California               QB   \n",
       "4     30078    6-2     228  1982-11-24     Harvard               QB   \n",
       "...     ...    ...     ...         ...         ...              ...   \n",
       "1674  53991    6-1     320         NaN         NaN               DT   \n",
       "1675  53994    6-5     300         NaN         NaN                C   \n",
       "1676  53999    6-4     312         NaN         NaN               DT   \n",
       "1677  54006    6-6     330         NaN         NaN                T   \n",
       "1678  54038    6-6     245         NaN         NaN               QB   \n",
       "\n",
       "             displayName  \n",
       "0              Tom Brady  \n",
       "1     Ben Roethlisberger  \n",
       "2           Jason Peters  \n",
       "3          Aaron Rodgers  \n",
       "4       Ryan Fitzpatrick  \n",
       "...                  ...  \n",
       "1674     Forrest Merrill  \n",
       "1675       Ryan McCollum  \n",
       "1676         Jack Heflin  \n",
       "1677         Jake Curhan  \n",
       "1678      Feleipe Franks  \n",
       "\n",
       "[1679 rows x 7 columns]"
      ]
     },
     "execution_count": 83,
     "metadata": {},
     "output_type": "execute_result"
    }
   ],
   "source": [
    "player_data=pd.read_csv('/home/kirolos/Desktop/projects/python/practical stat/data/players.csv')\n",
    "player_data"
   ]
  },
  {
   "cell_type": "markdown",
   "metadata": {},
   "source": [
    "### cleaning data by making the height column has the same measurement by inches "
   ]
  },
  {
   "cell_type": "code",
   "execution_count": 84,
   "metadata": {},
   "outputs": [],
   "source": [
    "player_data[\"height_inches\"]=player_data[\"height\"].apply(lambda x: int(x.split(\"-\")[0])*12+int(x.split(\"-\")[1])if len(x.split(\"-\"))==2 else int(x))"
   ]
  },
  {
   "cell_type": "code",
   "execution_count": 85,
   "metadata": {},
   "outputs": [
    {
     "data": {
      "image/png": "[encoded data removed]",
      "text/plain": [
       "<Figure size 640x480 with 1 Axes>"
      ]
     },
     "metadata": {},
     "output_type": "display_data"
    }
   ],
   "source": [
    "# central limit theorm\n",
    "import matplotlib.pyplot as plt\n",
    "sample_amounts=range(10,100,20)\n",
    "for x in sample_amounts:\n",
    "    samples=[]\n",
    "    for i in range(1000):\n",
    "        samples.append(player_data[\"height_inches\"].sample(100).mean())\n",
    "    plt.hist(samples)\n",
    "    plt.legend([str(z)+\"samples\" for z in sample_amounts])\n",
    "    plt.title(\"central limit theorm\")\n",
    "    "
   ]
  },
  {
   "cell_type": "markdown",
   "metadata": {},
   "source": [
    "### standard error\n",
    "$SE = \\sigma / \\sqrt(n)$"
   ]
  },
  {
   "cell_type": "code",
   "execution_count": 86,
   "metadata": {},
   "outputs": [
    {
     "data": {
      "text/plain": [
       "0.0645649085104296"
      ]
     },
     "execution_count": 86,
     "metadata": {},
     "output_type": "execute_result"
    }
   ],
   "source": [
    "player_data[\"height_inches\"].sem()"
   ]
  },
  {
   "cell_type": "markdown",
   "metadata": {},
   "source": [
    "###  bootstrap"
   ]
  },
  {
   "cell_type": "code",
   "execution_count": 87,
   "metadata": {},
   "outputs": [
    {
     "name": "stdout",
     "output_type": "stream",
     "text": [
      "Bootstrap statistics:\n",
      "original: 0       76\n",
      "1       77\n",
      "2       76\n",
      "3       74\n",
      "4       74\n",
      "        ..\n",
      "1674    73\n",
      "1675    77\n",
      "1676    76\n",
      "1677    78\n",
      "1678    78\n",
      "Name: height_inches, Length: 1679, dtype: int64\n",
      "bias: 0.36700000000000443\n",
      "std error: 0.48222768848702957\n"
     ]
    }
   ],
   "source": [
    "from sklearn.utils import resample\n",
    "result=[]\n",
    "for nrepeat in range(1000):\n",
    "    sample=resample(player_data[\"height_inches\"])\n",
    "    result.append(sample.median())\n",
    "result= pd.Series(result)\n",
    "print(\"Bootstrap statistics:\")\n",
    "print(f'original: {player_data[\"height_inches\"]}')   \n",
    "print(f'bias: {result.mean()-player_data[\"height_inches\"].median()}')\n",
    "print(f'std error: {result.std()}')"
   ]
  },
  {
   "cell_type": "markdown",
   "metadata": {},
   "source": [
    "### level of confidence and confidence intervals"
   ]
  },
  {
   "cell_type": "code",
   "execution_count": 88,
   "metadata": {},
   "outputs": [
    {
     "data": {
      "text/plain": [
       "(73.97015794805966, 76.42984205194034)"
      ]
     },
     "execution_count": 88,
     "metadata": {},
     "output_type": "execute_result"
    }
   ],
   "source": [
    "import numpy as np\n",
    "import scipy.stats as st\n",
    "data= player_data[\"height_inches\"][:20]\n",
    "\n",
    "# create 95% confidence interval for popluation mean weight\n",
    "st.t.interval(confidence=0.95,df=len(data)-1,loc=np.mean(data),scale=st.sem(data))"
   ]
  },
  {
   "cell_type": "markdown",
   "metadata": {},
   "source": [
    "### normal and gaussian distributiion-"
   ]
  },
  {
   "cell_type": "code",
   "execution_count": 91,
   "metadata": {},
   "outputs": [
    {
     "data": {
      "text/plain": [
       "((array([-2.46203784, -2.12570747, -1.93122778, -1.79044653, -1.67819304,\n",
       "         -1.58381122, -1.50174123, -1.42869743, -1.36256869, -1.30191411,\n",
       "         -1.24570419, -1.19317644, -1.14374949, -1.09696931, -1.05247413,\n",
       "         -1.00997067, -0.96921765, -0.93001393, -0.89218993, -0.85560121,\n",
       "         -0.82012357, -0.78564937, -0.75208458, -0.71934648, -0.68736185,\n",
       "         -0.65606548, -0.62539893, -0.59530962, -0.56574992, -0.53667655,\n",
       "         -0.50804994, -0.47983378, -0.45199463, -0.42450149, -0.39732558,\n",
       "         -0.37044003, -0.34381966, -0.31744076, -0.29128096, -0.26531902,\n",
       "         -0.23953472, -0.21390872, -0.18842244, -0.16305799, -0.13779803,\n",
       "         -0.1126257 , -0.08752455, -0.06247843, -0.03747145, -0.01248789,\n",
       "          0.01248789,  0.03747145,  0.06247843,  0.08752455,  0.1126257 ,\n",
       "          0.13779803,  0.16305799,  0.18842244,  0.21390872,  0.23953472,\n",
       "          0.26531902,  0.29128096,  0.31744076,  0.34381966,  0.37044003,\n",
       "          0.39732558,  0.42450149,  0.45199463,  0.47983378,  0.50804994,\n",
       "          0.53667655,  0.56574992,  0.59530962,  0.62539893,  0.65606548,\n",
       "          0.68736185,  0.71934648,  0.75208458,  0.78564937,  0.82012357,\n",
       "          0.85560121,  0.89218993,  0.93001393,  0.96921765,  1.00997067,\n",
       "          1.05247413,  1.09696931,  1.14374949,  1.19317644,  1.24570419,\n",
       "          1.30191411,  1.36256869,  1.42869743,  1.50174123,  1.58381122,\n",
       "          1.67819304,  1.79044653,  1.93122778,  2.12570747,  2.46203784]),\n",
       "  array([-3.1724058 , -1.85761562, -1.69875224, -1.65519786, -1.54197735,\n",
       "         -1.54038579, -1.40122082, -1.26849872, -1.14318   , -1.07148859,\n",
       "         -1.04575737, -0.94155478, -0.90534323, -0.84565609, -0.79830149,\n",
       "         -0.79453821, -0.74508946, -0.61347127, -0.59212374, -0.58631935,\n",
       "         -0.5593499 , -0.53312901, -0.46757693, -0.45248473, -0.45016532,\n",
       "         -0.44316304, -0.42149196, -0.34420747, -0.33135809, -0.30764812,\n",
       "         -0.29822258, -0.29777419, -0.20871111, -0.15349366, -0.1509235 ,\n",
       "         -0.13204888, -0.12820256, -0.10298337, -0.09897341,  0.01891999,\n",
       "          0.02593133,  0.03888544,  0.05629725,  0.05760686,  0.06144893,\n",
       "          0.08523334,  0.10038974,  0.10087855,  0.11865579,  0.12042544,\n",
       "          0.13518462,  0.19733218,  0.2233243 ,  0.22580753,  0.23093966,\n",
       "          0.24536162,  0.26620438,  0.30509042,  0.36328439,  0.38159919,\n",
       "          0.42195277,  0.4426021 ,  0.45089223,  0.54203463,  0.57504624,\n",
       "          0.58749022,  0.6060277 ,  0.60919639,  0.62929689,  0.66464596,\n",
       "          0.66806658,  0.69436897,  0.70411927,  0.70516845,  0.70580853,\n",
       "          0.71497237,  0.75376339,  0.7659205 ,  0.77315573,  0.82478745,\n",
       "          0.83480242,  0.90129402,  0.94854323,  0.99012169,  1.0275363 ,\n",
       "          1.13471253,  1.17039292,  1.19380956,  1.26067469,  1.27299006,\n",
       "          1.33429909,  1.41958404,  1.43371714,  1.46566153,  1.46901812,\n",
       "          1.65368004,  1.76535649,  1.77704805,  1.8570722 ,  2.51460322])),\n",
       " (0.9417047270420297, 0.1352224901621611, 0.9911835499726976))"
      ]
     },
     "execution_count": 91,
     "metadata": {},
     "output_type": "execute_result"
    },
    {
     "data": {
      "image/png": "[encoded data removed]",
      "text/plain": [
       "<Figure size 400x400 with 1 Axes>"
      ]
     },
     "metadata": {},
     "output_type": "display_data"
    }
   ],
   "source": [
    "from scipy import stats\n",
    "fig, ax=plt.subplots(figsize=(4,4))\n",
    "#ig.plot(4,4)\n",
    "#sns.distplot(player_data['height_inches'].dropna(), bins=100, color='magenta', ax=ax)\n",
    "norm_sample=stats.norm.rvs(size=100)\n",
    "stats.probplot(norm_sample,plot=ax)"
   ]
  }
 ],
 "metadata": {
  "kernelspec": {
   "display_name": "Python 3 (ipykernel)",
   "language": "python",
   "name": "python3"
  },
  "language_info": {
   "codemirror_mode": {
    "name": "ipython",
    "version": 3
   },
   "file_extension": ".py",
   "mimetype": "text/x-python",
   "name": "python",
   "nbconvert_exporter": "python",
   "pygments_lexer": "ipython3",
   "version": "3.10.12"
  }
 },
 "nbformat": 4,
 "nbformat_minor": 4
}
